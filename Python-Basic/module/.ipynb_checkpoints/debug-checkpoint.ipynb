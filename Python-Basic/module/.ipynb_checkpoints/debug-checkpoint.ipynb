{
 "cells": [
  {
   "cell_type": "markdown",
   "id": "2525d637-e967-4c57-8d85-98280488b0ae",
   "metadata": {},
   "source": [
    "# 断言与异常处理\n",
    "## 断言\n",
    "### assert\n",
    "- 断言是检测程序员错误，只在开发阶段存在\n",
    "- 语法格式：\n",
    "```py\n",
    "assert 表达式，描述\n",
    "```\n",
    "- 当表达式的结果为False时，抛出 AssertionError 异常，如无异常捕获程序遇到异常时直接结束运行。\n",
    "- 断言需要慎用，尤其是写测试用例或者程序时，因为我们运行程序时，如果断言失败，无异常捕获程序则会结束运行，导致后面的代码无法执行。"
   ]
  },
  {
   "cell_type": "code",
   "execution_count": 1,
   "id": "721139cc-a9f0-4b5e-b576-3dca72606680",
   "metadata": {},
   "outputs": [
    {
     "ename": "AssertionError",
     "evalue": "a的值不为0",
     "output_type": "error",
     "traceback": [
      "\u001b[1;31m---------------------------------------------------------------------------\u001b[0m",
      "\u001b[1;31mAssertionError\u001b[0m                            Traceback (most recent call last)",
      "\u001b[1;32m<ipython-input-1-b7f86afe2ec3>\u001b[0m in \u001b[0;36m<module>\u001b[1;34m\u001b[0m\n\u001b[0;32m      1\u001b[0m \u001b[0ma\u001b[0m \u001b[1;33m=\u001b[0m \u001b[1;36m1\u001b[0m\u001b[1;33m\u001b[0m\u001b[1;33m\u001b[0m\u001b[0m\n\u001b[1;32m----> 2\u001b[1;33m \u001b[1;32massert\u001b[0m \u001b[0ma\u001b[0m \u001b[1;33m==\u001b[0m \u001b[1;36m0\u001b[0m \u001b[1;33m,\u001b[0m \u001b[1;34m'a的值不为0'\u001b[0m\u001b[1;33m\u001b[0m\u001b[1;33m\u001b[0m\u001b[0m\n\u001b[0m\u001b[0;32m      3\u001b[0m \u001b[0mprint\u001b[0m\u001b[1;33m(\u001b[0m\u001b[1;34m'end'\u001b[0m\u001b[1;33m)\u001b[0m\u001b[1;33m\u001b[0m\u001b[1;33m\u001b[0m\u001b[0m\n",
      "\u001b[1;31mAssertionError\u001b[0m: a的值不为0"
     ]
    }
   ],
   "source": [
    "a = 1\n",
    "assert a == 0 , 'a的值不为0'\n",
    "print('end')"
   ]
  },
  {
   "cell_type": "code",
   "execution_count": null,
   "id": "e2221b3a-93d9-45aa-9d83-eba8e9a07368",
   "metadata": {},
   "outputs": [],
   "source": [
    "a = 1\n",
    "assert a == 1 , 'a的值不为1'\n",
    "print('end')"
   ]
  },
  {
   "cell_type": "markdown",
   "id": "6f3bd571-338c-4977-876b-fc65a79db17e",
   "metadata": {},
   "source": [
    "## 异常与异常处理\n",
    "### 异常\n",
    "- 常见异常分类\n",
    "  |异常|描述|\n",
    "  |--|--|\n",
    "  |BaseException|为所有异常类的基类|\n",
    "  |Exception|所有异常类的基类，继承自 Exception|\n",
    "  |AssertionError|assert 语句抛出的异常，断言异常|\n",
    "  |AttributeError|试图访问一个对象的属性，对象没有这个属性|\n",
    "  |IOError|输入输出异常|\n",
    "  |NameError|使用未赋值对象的变量|\n",
    "  |IndexError|序列中没有此索引|\n",
    "  |IndentationError|语法错误，代码没有准确对齐|\n",
    "  |KeyboardInterrupt|用户中断执行|\n",
    "  |TypeError|对类型无效的操作，输入的对象类型与要求不符，如传入参数个数不对|\n",
    "  |ValueError|传入无效的参数|\n",
    "  |SyntaxError|语法错误|\n",
    "  |ImportError|导入模块/对象失败|\n",
    "  |Key Error|映射中没有这个键|\n",
    "- [python 异常表](https://docs.python.org/3.6/library/exceptions.html#exception-hierarchy)"
   ]
  },
  {
   "cell_type": "markdown",
   "id": "96156959-e3b3-4b1e-b8f3-98003a92eba6",
   "metadata": {},
   "source": [
    "### 异常处理\n",
    "#### try except 语句\n",
    "  ```py\n",
    "  try：\n",
    "    语句\n",
    "  except：\n",
    "    异常处理\n",
    "  ```"
   ]
  },
  {
   "cell_type": "code",
   "execution_count": null,
   "id": "6a983fd3-cbca-4ca6-a864-0f8f99d64e55",
   "metadata": {},
   "outputs": [],
   "source": [
    "try:\n",
    "    i = int(input('接收一个除数：'))\n",
    "    print(2 / i)\n",
    "except:\n",
    "    print('发生了异常')"
   ]
  },
  {
   "cell_type": "code",
   "execution_count": null,
   "id": "d6138766-4735-4b6f-a381-217fb0d50fae",
   "metadata": {},
   "outputs": [],
   "source": [
    "try:\n",
    "    i = int(input('接收一个除数：'))\n",
    "    print(2 / i)\n",
    "except ZeroDivisionError:  # 只捕获ZeroDivisionError异常\n",
    "    print('发生了ZeroDivisionError异常')\n",
    "except (ValueError, KeyboardInterrupt, TypeError):  # 捕获元组中的异常\n",
    "    print('发生了ValueError或KeyboardInterrupt或TypeError异常')\n",
    "except:  # 可以捕获所有异常\n",
    "    print('发生了未知异常')"
   ]
  },
  {
   "cell_type": "markdown",
   "id": "857d3b9c-eba0-43b7-9bcf-1c7c69826e27",
   "metadata": {},
   "source": [
    "#### try ... except ... else ... 语句"
   ]
  },
  {
   "cell_type": "code",
   "execution_count": null,
   "id": "150b059b-fa3b-4d90-a7ae-095210afda80",
   "metadata": {},
   "outputs": [],
   "source": [
    "try:\n",
    "    i = int(input('接收一个除数：'))\n",
    "    print(2 / i)\n",
    "except ZeroDivisionError:  # 只捕获ZeroDivisionError异常\n",
    "    print('发生了ZeroDivisionError异常')\n",
    "except (ValueError, KeyboardInterrupt, TypeError):  # 捕获元组中的异常\n",
    "    print('发生了ValueError或KeyboardInterrupt或TypeError异常')\n",
    "except:  # 可以捕获所有异常\n",
    "    print('发生了未知异常')\n",
    "else:\n",
    "    print('结束程序运行')"
   ]
  },
  {
   "cell_type": "markdown",
   "id": "9c11e9fc-04fa-4c04-a750-91ed24f72423",
   "metadata": {},
   "source": [
    "#### try ... except ... finally ... 语句"
   ]
  },
  {
   "cell_type": "code",
   "execution_count": null,
   "id": "6f59695f-2fa3-4ef8-a688-9a53dc4954c8",
   "metadata": {},
   "outputs": [],
   "source": [
    "try:\n",
    "    i = int(input('接收一个除数：'))\n",
    "    print(2 / i)\n",
    "except ZeroDivisionError:  # 只捕获ZeroDivisionError异常\n",
    "    print('发生了ZeroDivisionError异常')\n",
    "except (ValueError, KeyboardInterrupt, TypeError):  # 捕获元组中的异常\n",
    "    print('发生了ValueError或KeyboardInterrupt或TypeError异常')\n",
    "except:  # 可以捕获所有异常\n",
    "    print('发生了未知异常')\n",
    "finally:\n",
    "    print('执行了finally语句块')"
   ]
  },
  {
   "cell_type": "markdown",
   "id": "7648f858-bd80-4b32-b225-21df2bd6e921",
   "metadata": {},
   "source": [
    "## 抛出异常\n",
    "### raise 语句抛出一个指定的异常\n",
    "- 基础语法：`raise 异常类型(‘异常描述’)`\n",
    "- raise 语句各部分\n",
    "    - raise 关键字\n",
    "    - Exception() 函数调用\n",
    "    - 传递给 Exception 函数的字符串，包含有用的错误信息"
   ]
  },
  {
   "cell_type": "code",
   "execution_count": 2,
   "id": "49717165-4cf3-4255-bd51-9f8318fa7574",
   "metadata": {},
   "outputs": [
    {
     "ename": "NameError",
     "evalue": "使用一个还未赋值对象的变量",
     "output_type": "error",
     "traceback": [
      "\u001b[1;31m---------------------------------------------------------------------------\u001b[0m",
      "\u001b[1;31mNameError\u001b[0m                                 Traceback (most recent call last)",
      "\u001b[1;32m<ipython-input-2-043e3efbbe7f>\u001b[0m in \u001b[0;36m<module>\u001b[1;34m\u001b[0m\n\u001b[1;32m----> 1\u001b[1;33m \u001b[1;32mraise\u001b[0m \u001b[0mNameError\u001b[0m\u001b[1;33m(\u001b[0m\u001b[1;34m'使用一个还未赋值对象的变量'\u001b[0m\u001b[1;33m)\u001b[0m\u001b[1;33m\u001b[0m\u001b[1;33m\u001b[0m\u001b[0m\n\u001b[0m",
      "\u001b[1;31mNameError\u001b[0m: 使用一个还未赋值对象的变量"
     ]
    }
   ],
   "source": [
    "raise NameError('使用一个还未赋值对象的变量')"
   ]
  },
  {
   "cell_type": "markdown",
   "id": "a446f342-5541-44b5-82ac-ec66179757b7",
   "metadata": {},
   "source": [
    "# 日志\n",
    "## logging 模块\n",
    "- 在程序顶部写入 logging 的配置： \n",
    "    `logging.basicConfig(level=logging.INFO)`\n",
    "- logging 与 print 的区别\n",
    "    - logging 专为记录日志与dubug存在，是给程序员看的\n",
    "    - 后期可以使用 logging.disable() 禁用\n",
    "\n",
    "### logging 用法\n",
    "- 日志级别\n",
    "  |级别|函数|描述|\n",
    "  |---|---|---|\n",
    "  |DEBUG|logging.debug()|最低，用于小细节|\n",
    "  |INFO|logging.info()|记录程序中一般事件信息，确认正常工作|\n",
    "  |WARNING|logging.warning()|用于记录可能的问题，不会阻止程序工作，但未来可能会出问题|\n",
    "  |ERROR|logging.error()|记录错误，导致程序做某事失败|\n",
    "  |CRITICAL|logging.critical()|最高级别，致命错误|"
   ]
  },
  {
   "cell_type": "code",
   "execution_count": 3,
   "id": "8dcc051a-6fc9-487c-96c0-84ce8ed4739c",
   "metadata": {},
   "outputs": [
    {
     "name": "stderr",
     "output_type": "stream",
     "text": [
      "INFO:__main__:Start reading database\n",
      "INFO:__main__:Updating records ...\n",
      "INFO:__main__:Finish updating records\n"
     ]
    }
   ],
   "source": [
    "import logging\n",
    "logging.basicConfig(level=logging.INFO)\n",
    "logger = logging.getLogger(__name__)\n",
    "\n",
    "logger.info('Start reading database')\n",
    "# read database here\n",
    "records = {'john': 55, 'tom': 66}\n",
    "logger.debug('Records: %s', records)\n",
    "logger.info('Updating records ...')\n",
    "# update records here\n",
    "logger.info('Finish updating records')"
   ]
  },
  {
   "cell_type": "markdown",
   "id": "999aadf1-7281-45e8-a49c-8c76bcb12923",
   "metadata": {},
   "source": [
    "### 日志禁用与文件记录\n",
    "- logging.disable()\n",
    "    - 禁用传入日志级别及更低级的所有日志消息\n",
    "    - logging.disable(logging.CRITICAL)：禁用所有日志\n",
    "- 将日志传入文件\n",
    "    - 在 logging.basicConfig() 中传入 filename='' 以保存日志内容"
   ]
  },
  {
   "cell_type": "code",
   "execution_count": null,
   "id": "0d16f5af-5f7f-4cc8-8b4d-3c988e70f4b6",
   "metadata": {},
   "outputs": [],
   "source": []
  }
 ],
 "metadata": {
  "kernelspec": {
   "display_name": "Python 3",
   "language": "python",
   "name": "python3"
  },
  "language_info": {
   "codemirror_mode": {
    "name": "ipython",
    "version": 3
   },
   "file_extension": ".py",
   "mimetype": "text/x-python",
   "name": "python",
   "nbconvert_exporter": "python",
   "pygments_lexer": "ipython3",
   "version": "3.7.10"
  }
 },
 "nbformat": 4,
 "nbformat_minor": 5
}
