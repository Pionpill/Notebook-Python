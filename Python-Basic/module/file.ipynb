{
 "cells": [
  {
   "cell_type": "markdown",
   "metadata": {},
   "source": [
    "# 读写文件\n",
    "## 文件与文件路径\n",
    "### Windows 操作系统与 Linux/macOS 的区别\n",
    "- Windows 和 macOS 操作系统不区分大小写，Linux 区分大小写\n",
    "- Windows 操作系统使用倒斜杠 \\ 分隔文件，macOS 和 Linux 使用正斜杠 /"
   ]
  },
  {
   "cell_type": "markdown",
   "metadata": {},
   "source": [
    "### Path() 函数\n",
    "- Path() 函数会根据系统不同返回对应的文件路径\n",
    "- 返回值用 Linux 形式返回，可以用 str 转为实际的路径字符串"
   ]
  },
  {
   "cell_type": "code",
   "execution_count": 1,
   "metadata": {},
   "outputs": [
    {
     "data": {
      "text/plain": [
       "WindowsPath('spam/bacom/egg')"
      ]
     },
     "execution_count": 1,
     "metadata": {},
     "output_type": "execute_result"
    }
   ],
   "source": [
    "from pathlib import Path\n",
    "Path('spam','bacom','egg')"
   ]
  },
  {
   "cell_type": "code",
   "execution_count": 2,
   "metadata": {},
   "outputs": [
    {
     "data": {
      "text/plain": [
       "'spam\\\\bacom\\\\egg'"
      ]
     },
     "execution_count": 2,
     "metadata": {},
     "output_type": "execute_result"
    }
   ],
   "source": [
    "str(Path('spam','bacom','egg'))"
   ]
  },
  {
   "cell_type": "code",
   "execution_count": 3,
   "metadata": {},
   "outputs": [
    {
     "name": "stdout",
     "output_type": "stream",
     "text": [
      "c\\users\\pionpill\\account.txt\n",
      "c\\users\\pionpill\\detail.csv\n",
      "c\\users\\pionpill\\invite.docx\n"
     ]
    }
   ],
   "source": [
    "myFiles = ['account.txt','detail.csv','invite.docx']\n",
    "for filename in myFiles:\n",
    "    print(Path('c','users','pionpill',filename))"
   ]
  },
  {
   "cell_type": "markdown",
   "metadata": {},
   "source": [
    "- Path() 路径允许我们像对字符串使用 + 运算符一样，使用 / 运算符组合\n",
    "- 在 / 运算过程中必须保证从左至右 第一或第二 个值为 Path 对象"
   ]
  },
  {
   "cell_type": "code",
   "execution_count": 4,
   "metadata": {},
   "outputs": [
    {
     "data": {
      "text/plain": [
       "WindowsPath('spam/bacon/egg')"
      ]
     },
     "execution_count": 4,
     "metadata": {},
     "output_type": "execute_result"
    }
   ],
   "source": [
    "Path(\"spam\")/'bacon'/'egg'"
   ]
  },
  {
   "cell_type": "code",
   "execution_count": 5,
   "metadata": {},
   "outputs": [
    {
     "data": {
      "text/plain": [
       "WindowsPath('spam/bacom/eggs')"
      ]
     },
     "execution_count": 5,
     "metadata": {},
     "output_type": "execute_result"
    }
   ],
   "source": [
    "Path('spam')/Path('bacom/eggs')"
   ]
  },
  {
   "cell_type": "markdown",
   "metadata": {},
   "source": [
    "### 当前工作目录\n",
    "- 没有从根目录开始的文件或路径，都假定在当前工作目录下\n",
    "- Path.cwd() 可以获得当前工作目录\n",
    "- os.chdir() 可以改变当前工作目录"
   ]
  },
  {
   "cell_type": "code",
   "execution_count": 6,
   "metadata": {},
   "outputs": [
    {
     "data": {
      "text/plain": [
       "WindowsPath('D:/IDE/Programs/VS_Code_Programs/DeepLearning/Python-Basic/module')"
      ]
     },
     "execution_count": 6,
     "metadata": {},
     "output_type": "execute_result"
    }
   ],
   "source": [
    "Path.cwd()"
   ]
  },
  {
   "cell_type": "code",
   "execution_count": 7,
   "metadata": {},
   "outputs": [
    {
     "data": {
      "text/plain": [
       "WindowsPath('C:/Windows')"
      ]
     },
     "execution_count": 7,
     "metadata": {},
     "output_type": "execute_result"
    }
   ],
   "source": [
    "import os\n",
    "os.chdir('C:\\\\Windows')\n",
    "Path.cwd()"
   ]
  },
  {
   "cell_type": "code",
   "execution_count": 8,
   "metadata": {},
   "outputs": [],
   "source": [
    "os.chdir('D:/IDE/Programs/VS_Code_Programs/DeepLearning/Python-Basic/module')"
   ]
  },
  {
   "cell_type": "markdown",
   "metadata": {},
   "source": [
    "### 主目录\n",
    "- 系统默认的用于存放自己文件的文件夹"
   ]
  },
  {
   "cell_type": "code",
   "execution_count": 9,
   "metadata": {},
   "outputs": [
    {
     "data": {
      "text/plain": [
       "WindowsPath('C:/Users/msi')"
      ]
     },
     "execution_count": 9,
     "metadata": {},
     "output_type": "execute_result"
    }
   ],
   "source": [
    "Path.home()"
   ]
  },
  {
   "cell_type": "markdown",
   "metadata": {},
   "source": [
    "### 创建新文件夹\n",
    "- os.makedirs() 传入路径创建文件\n",
    "- 路径下若没有目录，则创建全部"
   ]
  },
  {
   "cell_type": "code",
   "execution_count": 10,
   "metadata": {},
   "outputs": [],
   "source": [
    "if Path(Path.cwd(),'file').exists() == False: \n",
    "    os.makedirs('file')"
   ]
  },
  {
   "cell_type": "markdown",
   "metadata": {},
   "source": [
    "- mkdir() 通过 Path 对象创建目录\n",
    "- 一次只能创建一个目录"
   ]
  },
  {
   "cell_type": "code",
   "execution_count": 11,
   "metadata": {},
   "outputs": [],
   "source": [
    "if Path(Path.cwd(),'file').exists() == False: \n",
    "    Path(Path.cwd(),'file').mkdir()"
   ]
  },
  {
   "cell_type": "markdown",
   "metadata": {},
   "source": [
    "### 处理绝对路径与相对路径\n",
    "- is_absolute() 判断绝对路径"
   ]
  },
  {
   "cell_type": "code",
   "execution_count": 12,
   "metadata": {},
   "outputs": [
    {
     "data": {
      "text/plain": [
       "True"
      ]
     },
     "execution_count": 12,
     "metadata": {},
     "output_type": "execute_result"
    }
   ],
   "source": [
    "Path.cwd().is_absolute()"
   ]
  },
  {
   "cell_type": "markdown",
   "metadata": {},
   "source": [
    "os.path 模块处理路径的相关函数\n",
    "- os.path.abspath(path) 返回相对路径的绝对路径\n",
    "- os.path.isabs(path) 判断是否为绝对路径\n",
    "- os.path.relpath(path,start) 返回从开始路径到 path 的相对路径的字符串，若没有开始路径，则为当前目录\n",
    "- os.path.relpath(path1,path2) 返回 path1 相对 path2 的路径"
   ]
  },
  {
   "cell_type": "code",
   "execution_count": 13,
   "metadata": {},
   "outputs": [
    {
     "data": {
      "text/plain": [
       "'D:\\\\IDE\\\\Programs\\\\VS_Code_Programs\\\\DeepLearning\\\\Python-Basic\\\\module'"
      ]
     },
     "execution_count": 13,
     "metadata": {},
     "output_type": "execute_result"
    }
   ],
   "source": [
    "os.path.abspath('.')"
   ]
  },
  {
   "cell_type": "code",
   "execution_count": 14,
   "metadata": {},
   "outputs": [
    {
     "data": {
      "text/plain": [
       "False"
      ]
     },
     "execution_count": 14,
     "metadata": {},
     "output_type": "execute_result"
    }
   ],
   "source": [
    "os.path.isabs('.')"
   ]
  },
  {
   "cell_type": "code",
   "execution_count": 15,
   "metadata": {},
   "outputs": [
    {
     "data": {
      "text/plain": [
       "True"
      ]
     },
     "execution_count": 15,
     "metadata": {},
     "output_type": "execute_result"
    }
   ],
   "source": [
    "os.path.isabs(os.path.abspath('.'))"
   ]
  },
  {
   "cell_type": "code",
   "execution_count": 16,
   "metadata": {},
   "outputs": [
    {
     "data": {
      "text/plain": [
       "'temp'"
      ]
     },
     "execution_count": 16,
     "metadata": {},
     "output_type": "execute_result"
    }
   ],
   "source": [
    "os.path.relpath(Path.cwd()/'temp',Path.cwd())"
   ]
  },
  {
   "cell_type": "markdown",
   "metadata": {},
   "source": [
    "### 取得文件路径的各部分\n",
    "- path.anchor 文件锚点\n",
    "- path.parent 母文件路径\n",
    "- path.name 文件名\n",
    "- path.stem 文件主干名\n",
    "- path.suffix 文件后缀名\n",
    "- path.drive 文件驱动器，仅 Windows\n",
    "- path.parents[index] 回溯母文件"
   ]
  },
  {
   "cell_type": "code",
   "execution_count": 17,
   "metadata": {},
   "outputs": [
    {
     "data": {
      "text/plain": [
       "WindowsPath('D:/IDE/Programs/VS_Code_Programs/DeepLearning/Python-Basic/module/pathlib.ipynb')"
      ]
     },
     "execution_count": 17,
     "metadata": {},
     "output_type": "execute_result"
    }
   ],
   "source": [
    "p = Path(Path.cwd(),'pathlib.ipynb')\n",
    "p"
   ]
  },
  {
   "cell_type": "code",
   "execution_count": 18,
   "metadata": {},
   "outputs": [
    {
     "data": {
      "text/plain": [
       "'D:\\\\'"
      ]
     },
     "execution_count": 18,
     "metadata": {},
     "output_type": "execute_result"
    }
   ],
   "source": [
    "p.anchor"
   ]
  },
  {
   "cell_type": "code",
   "execution_count": 19,
   "metadata": {},
   "outputs": [
    {
     "data": {
      "text/plain": [
       "WindowsPath('D:/IDE/Programs/VS_Code_Programs/DeepLearning/Python-Basic/module')"
      ]
     },
     "execution_count": 19,
     "metadata": {},
     "output_type": "execute_result"
    }
   ],
   "source": [
    "p.parent"
   ]
  },
  {
   "cell_type": "code",
   "execution_count": 20,
   "metadata": {},
   "outputs": [
    {
     "data": {
      "text/plain": [
       "'pathlib.ipynb'"
      ]
     },
     "execution_count": 20,
     "metadata": {},
     "output_type": "execute_result"
    }
   ],
   "source": [
    "p.name"
   ]
  },
  {
   "cell_type": "code",
   "execution_count": 21,
   "metadata": {},
   "outputs": [
    {
     "data": {
      "text/plain": [
       "'pathlib'"
      ]
     },
     "execution_count": 21,
     "metadata": {},
     "output_type": "execute_result"
    }
   ],
   "source": [
    "p.stem"
   ]
  },
  {
   "cell_type": "code",
   "execution_count": 22,
   "metadata": {},
   "outputs": [
    {
     "data": {
      "text/plain": [
       "'.ipynb'"
      ]
     },
     "execution_count": 22,
     "metadata": {},
     "output_type": "execute_result"
    }
   ],
   "source": [
    "p.suffix"
   ]
  },
  {
   "cell_type": "code",
   "execution_count": 23,
   "metadata": {},
   "outputs": [
    {
     "data": {
      "text/plain": [
       "'D:'"
      ]
     },
     "execution_count": 23,
     "metadata": {},
     "output_type": "execute_result"
    }
   ],
   "source": [
    "p.drive"
   ]
  },
  {
   "cell_type": "code",
   "execution_count": 24,
   "metadata": {},
   "outputs": [
    {
     "data": {
      "text/plain": [
       "WindowsPath('D:/IDE/Programs/VS_Code_Programs/DeepLearning/Python-Basic/module')"
      ]
     },
     "execution_count": 24,
     "metadata": {},
     "output_type": "execute_result"
    }
   ],
   "source": [
    "p.parents[0]"
   ]
  },
  {
   "cell_type": "code",
   "execution_count": 25,
   "metadata": {},
   "outputs": [
    {
     "data": {
      "text/plain": [
       "WindowsPath('D:/IDE/Programs/VS_Code_Programs/DeepLearning/Python-Basic')"
      ]
     },
     "execution_count": 25,
     "metadata": {},
     "output_type": "execute_result"
    }
   ],
   "source": [
    "p.parents[1]"
   ]
  },
  {
   "cell_type": "markdown",
   "metadata": {},
   "source": [
    "os.path 模块类似函数\n",
    "- os.path.dirname(path) 包含最后一个斜杠之前所有字符串\n",
    "- os.path.basename(path) 包含最后一个斜杠之后所有字符串\n",
    "- os.path.split(path) 分割最后一个斜杠前后字符串"
   ]
  },
  {
   "cell_type": "code",
   "execution_count": 26,
   "metadata": {},
   "outputs": [
    {
     "data": {
      "text/plain": [
       "'D:\\\\IDE\\\\Programs\\\\VS_Code_Programs\\\\DeepLearning\\\\Python-Basic'"
      ]
     },
     "execution_count": 26,
     "metadata": {},
     "output_type": "execute_result"
    }
   ],
   "source": [
    "p = Path.cwd()\n",
    "os.path.dirname(p)"
   ]
  },
  {
   "cell_type": "code",
   "execution_count": 27,
   "metadata": {},
   "outputs": [
    {
     "data": {
      "text/plain": [
       "'module'"
      ]
     },
     "execution_count": 27,
     "metadata": {},
     "output_type": "execute_result"
    }
   ],
   "source": [
    "os.path.basename(p)"
   ]
  },
  {
   "cell_type": "code",
   "execution_count": 28,
   "metadata": {},
   "outputs": [
    {
     "data": {
      "text/plain": [
       "('D:\\\\IDE\\\\Programs\\\\VS_Code_Programs\\\\DeepLearning\\\\Python-Basic', 'module')"
      ]
     },
     "execution_count": 28,
     "metadata": {},
     "output_type": "execute_result"
    }
   ],
   "source": [
    "os.path.split(p)"
   ]
  },
  {
   "cell_type": "code",
   "execution_count": 29,
   "metadata": {},
   "outputs": [
    {
     "data": {
      "text/plain": [
       "['D:',\n",
       " 'IDE',\n",
       " 'Programs',\n",
       " 'VS_Code_Programs',\n",
       " 'DeepLearning',\n",
       " 'Python-Basic',\n",
       " 'module']"
      ]
     },
     "execution_count": 29,
     "metadata": {},
     "output_type": "execute_result"
    }
   ],
   "source": [
    "str(p).split(os.sep)"
   ]
  },
  {
   "cell_type": "markdown",
   "metadata": {},
   "source": [
    "### 查看文件大小及文件夹内容\n",
    "- os.path.getsize(path) 返回文件字节数\n",
    "- os.listdir(path) 返回文件名字符串的列表"
   ]
  },
  {
   "cell_type": "code",
   "execution_count": 30,
   "metadata": {},
   "outputs": [
    {
     "ename": "FileNotFoundError",
     "evalue": "[WinError 2] 系统找不到指定的文件。: 'D:\\\\IDE\\\\Programs\\\\VS_Code_Programs\\\\DeepLearning\\\\Python-Basic\\\\module\\\\pathlib.ipynb'",
     "output_type": "error",
     "traceback": [
      "\u001b[1;31m---------------------------------------------------------------------------\u001b[0m",
      "\u001b[1;31mFileNotFoundError\u001b[0m                         Traceback (most recent call last)",
      "\u001b[1;32m<ipython-input-30-d1e6600c6b3f>\u001b[0m in \u001b[0;36m<module>\u001b[1;34m\u001b[0m\n\u001b[1;32m----> 1\u001b[1;33m \u001b[0mos\u001b[0m\u001b[1;33m.\u001b[0m\u001b[0mpath\u001b[0m\u001b[1;33m.\u001b[0m\u001b[0mgetsize\u001b[0m\u001b[1;33m(\u001b[0m\u001b[0mPath\u001b[0m\u001b[1;33m.\u001b[0m\u001b[0mcwd\u001b[0m\u001b[1;33m(\u001b[0m\u001b[1;33m)\u001b[0m\u001b[1;33m/\u001b[0m\u001b[1;34m'pathlib.ipynb'\u001b[0m\u001b[1;33m)\u001b[0m\u001b[1;33m\u001b[0m\u001b[1;33m\u001b[0m\u001b[0m\n\u001b[0m",
      "\u001b[1;32mD:\\Code\\Anaconda3\\lib\\genericpath.py\u001b[0m in \u001b[0;36mgetsize\u001b[1;34m(filename)\u001b[0m\n\u001b[0;32m     48\u001b[0m \u001b[1;32mdef\u001b[0m \u001b[0mgetsize\u001b[0m\u001b[1;33m(\u001b[0m\u001b[0mfilename\u001b[0m\u001b[1;33m)\u001b[0m\u001b[1;33m:\u001b[0m\u001b[1;33m\u001b[0m\u001b[1;33m\u001b[0m\u001b[0m\n\u001b[0;32m     49\u001b[0m     \u001b[1;34m\"\"\"Return the size of a file, reported by os.stat().\"\"\"\u001b[0m\u001b[1;33m\u001b[0m\u001b[1;33m\u001b[0m\u001b[0m\n\u001b[1;32m---> 50\u001b[1;33m     \u001b[1;32mreturn\u001b[0m \u001b[0mos\u001b[0m\u001b[1;33m.\u001b[0m\u001b[0mstat\u001b[0m\u001b[1;33m(\u001b[0m\u001b[0mfilename\u001b[0m\u001b[1;33m)\u001b[0m\u001b[1;33m.\u001b[0m\u001b[0mst_size\u001b[0m\u001b[1;33m\u001b[0m\u001b[1;33m\u001b[0m\u001b[0m\n\u001b[0m\u001b[0;32m     51\u001b[0m \u001b[1;33m\u001b[0m\u001b[0m\n\u001b[0;32m     52\u001b[0m \u001b[1;33m\u001b[0m\u001b[0m\n",
      "\u001b[1;31mFileNotFoundError\u001b[0m: [WinError 2] 系统找不到指定的文件。: 'D:\\\\IDE\\\\Programs\\\\VS_Code_Programs\\\\DeepLearning\\\\Python-Basic\\\\module\\\\pathlib.ipynb'"
     ]
    }
   ],
   "source": [
    "os.path.getsize(Path.cwd()/'pathlib.ipynb')"
   ]
  },
  {
   "cell_type": "code",
<<<<<<< HEAD
   "execution_count": null,
   "id": "8145dbb1-590a-4239-ab84-06be671e4564",
=======
   "execution_count": 31,
>>>>>>> 66d2d01e1b226587b95adc50039d89c0e25eaf9a
   "metadata": {},
   "outputs": [],
   "source": [
    "os.listdir(Path.cwd().parents[0])"
   ]
  },
  {
   "cell_type": "markdown",
   "metadata": {},
   "source": [
    "### 使用通配符模式修改文件列表\n",
    "- path.glob() 根据\"通配符模式\"列出文件夹内容，返回一个生成器对象，需要用 list 强制转换为可读形式"
   ]
  },
  {
   "cell_type": "code",
<<<<<<< HEAD
   "execution_count": null,
   "id": "54a14407-3eaf-4a1c-8844-6978a3f28b43",
=======
   "execution_count": 32,
>>>>>>> 66d2d01e1b226587b95adc50039d89c0e25eaf9a
   "metadata": {},
   "outputs": [],
   "source": [
    "p = Path.cwd()\n",
    "list(p.glob('*.md'))"
   ]
  },
  {
   "cell_type": "markdown",
   "metadata": {},
   "source": [
    "### 检查路径有效性\n",
    "- path.exists() 路径存在则返回 True\n",
    "- path.is_file() 是文件\n",
    "- path.is_dir() 是文件夹"
   ]
  },
  {
   "cell_type": "code",
<<<<<<< HEAD
   "execution_count": null,
   "id": "c16f8e9c-1722-49ca-87c9-9886bfae692b",
=======
   "execution_count": 33,
>>>>>>> 66d2d01e1b226587b95adc50039d89c0e25eaf9a
   "metadata": {},
   "outputs": [],
   "source": [
    "Path.cwd().is_dir()"
   ]
  },
  {
   "cell_type": "markdown",
   "metadata": {},
   "source": [
    "## 文件读写过程"
   ]
  },
  {
   "cell_type": "markdown",
   "metadata": {},
   "source": [
    "- path.write_text(Str)\n",
    "  - 向 path 文件写入字符串，若文件不存在则创建\n",
    "  - 返回字符串长度\n",
    "- path.read_text()\n",
    "  - 读取 path 文件内容"
   ]
  },
  {
   "cell_type": "code",
<<<<<<< HEAD
   "execution_count": null,
   "id": "7098b24b-acdf-4513-bf32-2e2e2778ae1f",
=======
   "execution_count": 34,
>>>>>>> 66d2d01e1b226587b95adc50039d89c0e25eaf9a
   "metadata": {},
   "outputs": [],
   "source": [
    "p = Path('file','text.txt')\n",
    "p.write_text(\"Hello,World!\\nPionpill\")"
   ]
  },
  {
   "cell_type": "code",
<<<<<<< HEAD
   "execution_count": null,
   "id": "979f720c-d45b-4fe9-9e7d-3fc684e21fd2",
=======
   "execution_count": 35,
>>>>>>> 66d2d01e1b226587b95adc50039d89c0e25eaf9a
   "metadata": {},
   "outputs": [],
   "source": [
    "p.read_text()"
   ]
  },
  {
   "cell_type": "markdown",
   "metadata": {},
   "source": [
    "### open() 函数打开文件\n",
    "- open() 函数返回一个 file 类型对象  \n",
    "- file.read() 返回文件内字符串\n",
    "- file.readlines() 返回字符串列表"
   ]
  },
  {
   "cell_type": "code",
<<<<<<< HEAD
   "execution_count": null,
   "id": "b6b793e6-3f78-4b5d-8ad1-1e68cf4c8a4a",
=======
   "execution_count": 36,
>>>>>>> 66d2d01e1b226587b95adc50039d89c0e25eaf9a
   "metadata": {},
   "outputs": [],
   "source": [
    "file = open(Path.cwd()/'file'/'text.txt')"
   ]
  },
  {
   "cell_type": "code",
<<<<<<< HEAD
   "execution_count": null,
   "id": "f2e4be25-4139-4e4f-8a9d-7d6cbbb7e565",
=======
   "execution_count": 37,
>>>>>>> 66d2d01e1b226587b95adc50039d89c0e25eaf9a
   "metadata": {},
   "outputs": [],
   "source": [
    "file.read()"
   ]
  },
  {
   "cell_type": "code",
<<<<<<< HEAD
   "execution_count": null,
   "id": "635684b5-6fdf-442f-a215-d120972dc802",
=======
   "execution_count": 44,
>>>>>>> 66d2d01e1b226587b95adc50039d89c0e25eaf9a
   "metadata": {},
   "outputs": [],
   "source": [
    "file = open(Path.cwd()/'file'/'text.txt')\n",
    "file.readlines()"
   ]
  },
  {
   "cell_type": "markdown",
   "metadata": {},
   "source": [
    "### 写入文件\n",
    "- open() 函数默认为 'r' 只读模式，\n",
    "  - 'w' 写入模式，覆盖原有内容\n",
    "  - 'a' 增加模式，在文件后添加内容\n",
    "- 在 open() 文件之后，都需要使用 close 来关闭文件"
   ]
  },
  {
   "cell_type": "code",
<<<<<<< HEAD
   "execution_count": null,
   "id": "5f4047ca-b1c2-45f0-880a-7262e9a13df6",
=======
   "execution_count": 51,
>>>>>>> 66d2d01e1b226587b95adc50039d89c0e25eaf9a
   "metadata": {},
   "outputs": [],
   "source": [
    "file = open(Path.cwd()/'file'/'text.txt','w')\n",
    "file.write('No Hello World!\\nMake American Greate Again\\nMaga\\n')\n",
    "file.close()"
   ]
  },
  {
   "cell_type": "code",
<<<<<<< HEAD
   "execution_count": null,
   "id": "834026fd-8978-442e-99db-b009c665e769",
=======
   "execution_count": 52,
>>>>>>> 66d2d01e1b226587b95adc50039d89c0e25eaf9a
   "metadata": {},
   "outputs": [],
   "source": [
    "file = open(Path.cwd()/'file'/'text.txt','a')\n",
    "file.write('China!\\n')\n",
    "file.close()"
   ]
  },
  {
   "cell_type": "markdown",
   "metadata": {},
   "source": [
    "## shelve 模块"
   ]
  },
  {
   "cell_type": "code",
<<<<<<< HEAD
   "execution_count": null,
   "id": "5ff9c5cf-b990-4341-982a-fcd34498726e",
=======
   "execution_count": 58,
>>>>>>> 66d2d01e1b226587b95adc50039d89c0e25eaf9a
   "metadata": {},
   "outputs": [],
   "source": [
    "import shelve\n",
    "shelfFile = shelve.open('file\\shelve')\n",
    "cats = ['Zophie','Pooka','Simon']\n",
    "shelfFile['cats'] = cats\n",
    "shelfFile.close()"
   ]
  },
  {
   "cell_type": "code",
<<<<<<< HEAD
   "execution_count": null,
   "id": "adcdf5a8-9f2a-4c9d-9459-4621a5bdf4cc",
=======
   "execution_count": 60,
>>>>>>> 66d2d01e1b226587b95adc50039d89c0e25eaf9a
   "metadata": {},
   "outputs": [],
   "source": [
    "shelfFile = shelve.open('file\\shelve')\n",
    "shelfFile['cats']"
   ]
  },
  {
   "cell_type": "code",
<<<<<<< HEAD
   "execution_count": null,
   "id": "bdf8673e-642c-49f9-aa25-eb1131c06d40",
=======
   "execution_count": 62,
>>>>>>> 66d2d01e1b226587b95adc50039d89c0e25eaf9a
   "metadata": {},
   "outputs": [],
   "source": [
    "list(shelfFile.keys())"
   ]
  },
  {
   "cell_type": "code",
<<<<<<< HEAD
   "execution_count": null,
   "id": "684cc5f7-9079-42f4-84d2-6d9bfa74a663",
=======
   "execution_count": 63,
>>>>>>> 66d2d01e1b226587b95adc50039d89c0e25eaf9a
   "metadata": {},
   "outputs": [],
   "source": [
    "list(shelfFile.values())"
   ]
  },
  {
   "cell_type": "markdown",
   "metadata": {},
   "source": [
    "# 组织文件\n",
    "## shutil 模块\n",
    "### 复制文件和文件夹\n",
    "- shutil.copy(source,destination) 将 source 文件复制到 destionation 文件，返回被复制文件路径\n",
    "- shutil.copytree(source,destination) 同 copy 方法，复制整个文件树"
   ]
  },
  {
   "cell_type": "code",
<<<<<<< HEAD
   "execution_count": null,
   "id": "c42657e6-6de3-4d47-8263-47bb36117d98",
=======
   "execution_count": 64,
>>>>>>> 66d2d01e1b226587b95adc50039d89c0e25eaf9a
   "metadata": {},
   "outputs": [],
   "source": [
    "import shutil\n",
    "import os\n",
    "from pathlib import Path"
   ]
  },
  {
   "cell_type": "code",
<<<<<<< HEAD
   "execution_count": null,
   "id": "18100495-c739-49e7-81a4-37f38a7a7a80",
=======
   "execution_count": 71,
>>>>>>> 66d2d01e1b226587b95adc50039d89c0e25eaf9a
   "metadata": {},
   "outputs": [],
   "source": [
    "shutil.copy(Path.cwd()/'file'/'text.txt',Path.cwd())"
   ]
  },
  {
   "cell_type": "markdown",
   "metadata": {},
   "source": [
    "### 文件和文件夹的移动与重命名\n",
    "- shutil.move(source,destination) 移动文件\n",
    "  - 如果同名文件已存在，将被覆盖\n",
    "  - 如果 destination 指定文件名，则 source 将以新的文件名被移动到该路径下\n",
    "  - 如果目标位置不存在，则会将 source 文件重命名为指定的文件夹名"
   ]
  },
  {
   "cell_type": "code",
<<<<<<< HEAD
   "execution_count": null,
   "id": "1d46b311-5d7f-4488-87f8-c0e2395e2b29",
=======
   "execution_count": 72,
>>>>>>> 66d2d01e1b226587b95adc50039d89c0e25eaf9a
   "metadata": {},
   "outputs": [],
   "source": [
    "shutil.move('text.txt',Path('file','text2.txt'))"
   ]
  },
  {
   "cell_type": "markdown",
   "metadata": {},
   "source": [
    "### 永久删除文件和文件夹\n",
    "- os.unlink(path)\n",
    "  - 删除 path 处文件\n",
    "- os.rmdir(path)\n",
    "  - 删除文件夹，文件夹必须为空\n",
    "- shutil.rmtree(path)\n",
    "  - 删除路径下文件树\n",
    "  - 该函数将永久删除，而不是放到回收站"
   ]
  },
  {
   "cell_type": "markdown",
   "metadata": {},
   "source": [
    "### 用 send2trash 模块删除\n",
    "- send2trash.send2trash(path)\n",
    "  - 不同于 shutil.rmtree() 该函数将文件放到回收站"
   ]
  },
  {
   "cell_type": "code",
<<<<<<< HEAD
   "execution_count": null,
   "id": "46ce6c78-8e96-4075-a308-9360fc056d5e",
=======
   "execution_count": 74,
>>>>>>> 66d2d01e1b226587b95adc50039d89c0e25eaf9a
   "metadata": {},
   "outputs": [],
   "source": [
    "import send2trash\n",
    "send2trash.send2trash(str(Path('file','text2.txt')))"
   ]
  },
  {
   "cell_type": "markdown",
   "metadata": {},
   "source": [
    "## 遍历目录树"
   ]
  },
  {
   "cell_type": "markdown",
<<<<<<< HEAD
   "id": "fd4ac53f-2213-4db0-a2a1-68b5b8efa35c",
   "metadata": {},
   "source": [
    "### os.walk() 函数\n",
    "- 通过 for 循环返回三个值\n",
    "    - 当前文件夹名称的字符串\n",
    "    - 当前文件夹中子文件夹的字符串的列表\n",
    "    - 当前文件夹中文件的字符串的列表"
=======
   "metadata": {},
   "source": [
    "### os.walk() 方法\n",
    "- os.walk() 方法结合 range() 遍历，每次迭代返回以下值\n",
    "    1. 当前文件夹名称的字符串\n",
    "    2. 当前文件夹中子文件夹的字符串列表\n",
    "    3. 当前文件夹中文件的字符串列表"
>>>>>>> 66d2d01e1b226587b95adc50039d89c0e25eaf9a
   ]
  },
  {
   "cell_type": "code",
<<<<<<< HEAD
   "execution_count": 43,
   "id": "2d250345-6a61-4c17-887d-e25f6ca98ed9",
=======
   "execution_count": 6,
>>>>>>> 66d2d01e1b226587b95adc50039d89c0e25eaf9a
   "metadata": {},
   "outputs": [
    {
     "name": "stdout",
     "output_type": "stream",
     "text": [
<<<<<<< HEAD
      "The current folder is D:\\IDE\\Programs\\VS_Code_Programs\\DeepLearning\\Python-Basic\\module\n",
      "The current subfolder is .ipynb_checkpoints\n",
      "The current subfolder is file\n",
      "The folder contains file: file.ipynb\n",
      "The folder contains file: re.md\n",
      "The current folder is D:\\IDE\\Programs\\VS_Code_Programs\\DeepLearning\\Python-Basic\\module\\.ipynb_checkpoints\n",
      "The folder contains file: file-checkpoint.ipynb\n",
      "The current folder is D:\\IDE\\Programs\\VS_Code_Programs\\DeepLearning\\Python-Basic\\module\\file\n",
      "The current subfolder is .ipynb_checkpoints\n",
      "The folder contains file: shelve.bak\n",
      "The folder contains file: shelve.dat\n",
      "The folder contains file: shelve.dir\n",
      "The folder contains file: text.txt\n",
      "The current folder is D:\\IDE\\Programs\\VS_Code_Programs\\DeepLearning\\Python-Basic\\module\\file\\.ipynb_checkpoints\n",
      "The folder contains file: shelve-checkpoint.bak\n",
      "The folder contains file: text-checkpoint.txt\n"
=======
      "folderName: D:\\vs_code\\DeepLearning\\Python-Basic\\module\n",
      "subFolder: .ipynb_checkpoints\n",
      "subFolder: file\n",
      "fileName: file.ipynb\n",
      "fileName: re.md\n",
      "----==--==----\n",
      "folderName: D:\\vs_code\\DeepLearning\\Python-Basic\\module\\.ipynb_checkpoints\n",
      "fileName: file-checkpoint.ipynb\n",
      "----==--==----\n",
      "folderName: D:\\vs_code\\DeepLearning\\Python-Basic\\module\\file\n",
      "fileName: shelve.bak\n",
      "fileName: shelve.dat\n",
      "fileName: shelve.dir\n",
      "fileName: text.txt\n",
      "----==--==----\n"
>>>>>>> 66d2d01e1b226587b95adc50039d89c0e25eaf9a
     ]
    }
   ],
   "source": [
    "import os\n",
<<<<<<< HEAD
    "for folderName,subfolders,filenames in os.walk(Path.cwd()):\n",
    "    print(\"The current folder is \"+folderName)\n",
    "    for subfolder in subfolders:\n",
    "        print(\"The current subfolder is \"+subfolder)\n",
    "    for filename in filenames:\n",
    "        print(\"The folder contains file: \"+filename)"
=======
    "for folderName,subFolders,fileNames in os.walk(\"D:\\\\vs_code\\\\DeepLearning\\\\Python-Basic\\\\module\"):\n",
    "    print(\"folderName: \"+folderName)\n",
    "    for subFolder in subFolders:\n",
    "        print(\"subFolder: \"+subFolder)\n",
    "    for fileName in fileNames:\n",
    "        print(\"fileName: \"+fileName)\n",
    "    print(\"----==--==----\")"
>>>>>>> 66d2d01e1b226587b95adc50039d89c0e25eaf9a
   ]
  },
  {
   "cell_type": "markdown",
<<<<<<< HEAD
   "id": "f6abe266-0895-4a7e-bff1-0fcc019eab06",
   "metadata": {},
   "source": [
    "# zipfile 模块"
   ]
  },
  {
   "cell_type": "markdown",
   "id": "2d8a542c-a298-4e1c-ab1b-b5b0845007a9",
   "metadata": {},
   "source": [
    "## 常用方法\n",
    "- namelist(): 返回 zip 文件中所包含的所有文件和文件夹的字符串\n",
    "- getinfo(): 返回一个关于特定文件的 ZipInfo 对象，拥有自己的属性，如 file_size\n",
    "- "
=======
   "metadata": {},
   "source": [
    "## zipfile 模块\n",
    "### 读取 zip 文件\n",
    "- 创建 ZipFile 文件：zipfile.ZipFile()\n",
    "- 常用方法\n",
    "  - namelist(): 获取 zip 文件名\n",
    "  - getinfo(): 获取文件信息"
   ]
  },
  {
   "cell_type": "code",
   "execution_count": 10,
   "metadata": {},
   "outputs": [
    {
     "data": {
      "text/plain": [
       "['zipfile/',\n",
       " 'zipfile/shelve.bak',\n",
       " 'zipfile/shelve.dat',\n",
       " 'zipfile/shelve.dir',\n",
       " 'zipfile/text.txt']"
      ]
     },
     "execution_count": 10,
     "metadata": {},
     "output_type": "execute_result"
    }
   ],
   "source": [
    "import zipfile,os\n",
    "from pathlib import Path\n",
    "exampleZip = zipfile.ZipFile(Path.cwd()/'file'/'zipfile.zip')\n",
    "exampleZip.namelist()"
>>>>>>> 66d2d01e1b226587b95adc50039d89c0e25eaf9a
   ]
  },
  {
   "cell_type": "code",
<<<<<<< HEAD
   "execution_count": 63,
   "id": "6cef9cb4-e488-4cb0-8bf8-97cf8dd247eb",
   "metadata": {},
   "outputs": [],
   "source": [
    "import zipfile\n",
    "exampleZip = zipfile.ZipFile(\"F:\\锤子工坊\\作品\\环绕雪山-2k\\存档\\ice_mountain_around.zip\")\n",
    "# print(exampleZip.namelist())\n",
=======
   "execution_count": 18,
   "metadata": {},
   "outputs": [
    {
     "name": "stdout",
     "output_type": "stream",
     "text": [
      "file size:59\n",
      "compress size:59\n"
     ]
    }
   ],
   "source": [
    "spaminfo = exampleZip.getinfo('zipfile/text.txt')\n",
    "print(\"file size:\"+str(spaminfo.file_size))\n",
    "print(\"compress size:\"+str(spaminfo.compress_size))\n",
>>>>>>> 66d2d01e1b226587b95adc50039d89c0e25eaf9a
    "exampleZip.close()"
   ]
  },
  {
<<<<<<< HEAD
   "cell_type": "code",
   "execution_count": 2,
   "id": "0e3eb63a-751d-4ccc-97a9-e8b45d125bb7",
   "metadata": {},
   "outputs": [],
   "source": [
    "import os\n",
    "for folderName,subfolders,filenames in os.walk(\"F:\\MCStudioDownload\\work\\673486387@qq.com\\Cpp\\AddOn\\9e85d775cd304377a3eedfe27932a11c\"):\n",
    "    for f in filenames:\n",
    "        print(folderName)"
=======
   "cell_type": "markdown",
   "metadata": {},
   "source": [
    "### 从 ZIP 文件中解压缩\n",
    "- .extract():解压文件"
>>>>>>> 66d2d01e1b226587b95adc50039d89c0e25eaf9a
   ]
  },
  {
   "cell_type": "code",
<<<<<<< HEAD
   "execution_count": null,
   "id": "141c6bb7-0194-4ffb-9e0d-80033bcf0b52",
=======
   "execution_count": 24,
   "metadata": {},
   "outputs": [
    {
     "data": {
      "text/plain": [
       "'D:\\\\vs_code\\\\DeepLearning\\\\Python-Basic\\\\module\\\\zipfile\\\\text.txt'"
      ]
     },
     "execution_count": 24,
     "metadata": {},
     "output_type": "execute_result"
    }
   ],
   "source": [
    "exampleZip = zipfile.ZipFile(Path.cwd()/'file'/'zipfile.zip')\n",
    "exampleZip.extractall(Path.cwd()/'file')   # 提取全部文件到指定文件夹\n",
    "exampleZip.extract('zipfile/text.txt',Path.cwd()) # 提取指定文件到指令文件夹\n",
    "exampleZip.close()"
   ]
  },
  {
   "cell_type": "markdown",
   "metadata": {},
   "source": [
    "### 创建 ZIP 文件\n",
    "- 要创建 ZIP 文件，必须以 \"w\" 模式创建 ZipFile 对象"
   ]
  },
  {
   "cell_type": "code",
   "execution_count": 28,
>>>>>>> 66d2d01e1b226587b95adc50039d89c0e25eaf9a
   "metadata": {},
   "outputs": [],
   "source": [
    "newZip = zipfile.ZipFile('file/new.zip','w')\n",
    "newZip.write('file/text.txt',compress_type=zipfile.ZIP_DEFLATED)\n",
    "newZip.close()"
   ]
  }
 ],
 "metadata": {
  "kernelspec": {
   "display_name": "Python 3",
   "language": "python",
   "name": "python3"
  },
  "language_info": {
   "codemirror_mode": {
    "name": "ipython",
    "version": 3
   },
   "file_extension": ".py",
   "mimetype": "text/x-python",
   "name": "python",
   "nbconvert_exporter": "python",
   "pygments_lexer": "ipython3",
   "version": "3.8.5"
  },
  "toc-autonumbering": true,
  "toc-showmarkdowntxt": false,
  "toc-showtags": false
 },
 "nbformat": 4,
 "nbformat_minor": 5
}
