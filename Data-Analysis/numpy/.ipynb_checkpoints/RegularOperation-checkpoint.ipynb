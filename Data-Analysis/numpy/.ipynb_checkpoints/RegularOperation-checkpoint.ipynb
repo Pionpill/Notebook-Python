{
 "cells": [
  {
   "cell_type": "markdown",
   "metadata": {},
   "source": [
    "# Numpy 常用操作"
   ]
  },
  {
   "cell_type": "markdown",
   "metadata": {},
   "source": [
    "## 数据筛选"
   ]
  },
  {
   "cell_type": "markdown",
   "metadata": {},
   "source": [
    "### .nonzero()\n",
    "- 方法原型\n",
    "  ```py\n",
    "  ndarray.nonzero()\n",
    "  ```\n",
    "- 备注：几乎所有的 numpy 对象都有该方法"
   ]
  },
  {
   "cell_type": "code",
   "execution_count": 1,
   "metadata": {},
   "outputs": [],
   "source": [
    "import numpy as np\n",
    "import pandas as pd"
   ]
  },
  {
   "cell_type": "code",
   "execution_count": 2,
   "metadata": {},
   "outputs": [
    {
     "data": {
      "text/plain": [
       "(array([0, 1, 4], dtype=int64),)"
      ]
     },
     "execution_count": 2,
     "metadata": {},
     "output_type": "execute_result"
    }
   ],
   "source": [
    "np.nonzero([1,2,0,0,4,0])"
   ]
  },
  {
   "cell_type": "markdown",
   "metadata": {},
   "source": [
    "## 快速创建数组"
   ]
  },
  {
   "cell_type": "markdown",
   "metadata": {},
   "source": [
    "### .eye()"
   ]
  },
  {
   "cell_type": "markdown",
   "metadata": {},
   "source": [
    "- 方法原型\n",
    "  ```py\n",
    "  numpy.eye(N, M=None, k=0, dtype=<class 'float'>, order='C', *, like=None)\n",
    "  ```\n",
    "- 作用：创建一个斜对角线的为1的二维数组\n",
    "- 默认为主对角线，可通过k值调整"
   ]
  },
  {
   "cell_type": "code",
   "execution_count": 3,
   "metadata": {},
   "outputs": [
    {
     "data": {
      "text/plain": [
       "array([[1., 0., 0.],\n",
       "       [0., 1., 0.],\n",
       "       [0., 0., 1.]])"
      ]
     },
     "execution_count": 3,
     "metadata": {},
     "output_type": "execute_result"
    }
   ],
   "source": [
    "np.eye(3,3)  # 主对角线默认为1"
   ]
  },
  {
   "cell_type": "code",
   "execution_count": 4,
   "metadata": {},
   "outputs": [
    {
     "data": {
      "text/plain": [
       "array([[0., 1., 0.],\n",
       "       [0., 0., 1.],\n",
       "       [0., 0., 0.]])"
      ]
     },
     "execution_count": 4,
     "metadata": {},
     "output_type": "execute_result"
    }
   ],
   "source": [
    "np.eye(3,k=1)"
   ]
  },
  {
   "cell_type": "markdown",
   "metadata": {},
   "source": [
    "### .diag()\n",
    "- 方法原型\n",
    "  ```py\n",
    "  numpy.diag(v, k=0)\n",
    "  ```\n",
    "- 作用：修改对角线元素"
   ]
  },
  {
   "cell_type": "code",
   "execution_count": 5,
   "metadata": {},
   "outputs": [
    {
     "data": {
      "text/plain": [
       "array([[0, 0, 0, 0, 0],\n",
       "       [1, 0, 0, 0, 0],\n",
       "       [0, 2, 0, 0, 0],\n",
       "       [0, 0, 3, 0, 0],\n",
       "       [0, 0, 0, 4, 0]])"
      ]
     },
     "execution_count": 5,
     "metadata": {},
     "output_type": "execute_result"
    }
   ],
   "source": [
    "np.diag(1+np.arange(4),k=-1)"
   ]
  },
  {
   "cell_type": "markdown",
   "metadata": {},
   "source": [
    "### .pad()"
   ]
  },
  {
   "cell_type": "markdown",
   "metadata": {},
   "source": [
    "- 方法原型\n",
    "  ```py\n",
    "  numpy.pad(array, pad_width, mode='constant', **kwargs)\n",
    "  ```\n",
    "  - pad_width：填充值\n",
    "  - mode：填充方式"
   ]
  },
  {
   "cell_type": "code",
   "execution_count": 6,
   "metadata": {},
   "outputs": [
    {
     "data": {
      "text/plain": [
       "array([[0., 0., 0., 0., 0., 0., 0.],\n",
       "       [0., 1., 1., 1., 1., 1., 0.],\n",
       "       [0., 1., 1., 1., 1., 1., 0.],\n",
       "       [0., 1., 1., 1., 1., 1., 0.],\n",
       "       [0., 1., 1., 1., 1., 1., 0.],\n",
       "       [0., 1., 1., 1., 1., 1., 0.],\n",
       "       [0., 0., 0., 0., 0., 0., 0.]])"
      ]
     },
     "execution_count": 6,
     "metadata": {},
     "output_type": "execute_result"
    }
   ],
   "source": [
    "np.pad(np.ones((5,5)), pad_width=1, mode='constant', constant_values=0)"
   ]
  },
  {
   "cell_type": "markdown",
   "metadata": {},
   "source": [
    "### .tile()\n",
    "- 方法原型\n",
    "  ```py\n",
    "  numpy.tile(A, reps)\n",
    "  ```\n",
    "- 作用：将 ndarray A 视作砖块，以 reps 数组形式铺盖"
   ]
  },
  {
   "cell_type": "code",
   "execution_count": 7,
   "metadata": {},
   "outputs": [
    {
     "data": {
      "text/plain": [
       "array([[0, 1, 0, 1, 0, 1, 0, 1],\n",
       "       [1, 0, 1, 0, 1, 0, 1, 0],\n",
       "       [0, 1, 0, 1, 0, 1, 0, 1],\n",
       "       [1, 0, 1, 0, 1, 0, 1, 0],\n",
       "       [0, 1, 0, 1, 0, 1, 0, 1],\n",
       "       [1, 0, 1, 0, 1, 0, 1, 0],\n",
       "       [0, 1, 0, 1, 0, 1, 0, 1],\n",
       "       [1, 0, 1, 0, 1, 0, 1, 0]])"
      ]
     },
     "execution_count": 7,
     "metadata": {},
     "output_type": "execute_result"
    }
   ],
   "source": [
    "np.tile( np.array([[0,1],[1,0]]), (4,4))"
   ]
  },
  {
   "cell_type": "markdown",
   "metadata": {},
   "source": [
    "## 随机类"
   ]
  },
  {
   "cell_type": "markdown",
   "metadata": {},
   "source": [
    "### random 类\n",
    "- 四个主要方法\n",
    "  |函数|说明|\n",
    "  |--|--|\n",
    "  |rand()|创建[0,1)之间的浮点数，均匀分布|\n",
    "  |randn()|创建随机数组，标准正态分布|\n",
    "  |randint(low,high,shape)|根据 shape 创建随机整数或整数数组，范围[low,high)|\n",
    "  |seed(s)|随机数种子|"
   ]
  },
  {
   "cell_type": "markdown",
   "metadata": {},
   "source": [
    "### random.rand()\n",
    "- 方法原型\n",
    "  ```py\n",
    "  random.rand(d0, d1, ..., dn)\n",
    "  ```\n",
    "- 备注：返回 [0,1) 之间的浮点数，服从均匀分布"
   ]
  },
  {
   "cell_type": "code",
   "execution_count": 8,
   "metadata": {},
   "outputs": [
    {
     "data": {
      "text/plain": [
       "array([[[0.22729348, 0.67704462, 0.98474052, 0.11667928, 0.44322223],\n",
       "        [0.34962617, 0.04106445, 0.0849214 , 0.27956515, 0.74162988],\n",
       "        [0.74510736, 0.25890971, 0.90083705, 0.60781241, 0.329192  ],\n",
       "        [0.63268573, 0.70744691, 0.36572939, 0.15649668, 0.89995928]],\n",
       "\n",
       "       [[0.78948433, 0.70050558, 0.76465926, 0.11578975, 0.26432071],\n",
       "        [0.05633175, 0.45948153, 0.62371476, 0.37393389, 0.75966201],\n",
       "        [0.31745648, 0.58724476, 0.57967409, 0.04539214, 0.78048152],\n",
       "        [0.39939626, 0.80300747, 0.43957714, 0.90300387, 0.48269874]],\n",
       "\n",
       "       [[0.63343178, 0.85027224, 0.44215875, 0.31000011, 0.69898436],\n",
       "        [0.17020392, 0.01595635, 0.62652641, 0.35771269, 0.62466652],\n",
       "        [0.03200751, 0.43689955, 0.99746862, 0.43165188, 0.67402399],\n",
       "        [0.33912924, 0.99258548, 0.13830404, 0.50441653, 0.70679056]]])"
      ]
     },
     "execution_count": 8,
     "metadata": {},
     "output_type": "execute_result"
    }
   ],
   "source": [
    "np.random.rand(3,4,5)"
   ]
  },
  {
   "cell_type": "markdown",
   "metadata": {},
   "source": [
    "### random.randn()\n",
    "- 方法原型\n",
    "  ```py\n",
    "  random.randn(d0, d1, ..., dn)\n",
    "  ```\n",
    "- 备注：服从标准正态分布"
   ]
  },
  {
   "cell_type": "code",
   "execution_count": 9,
   "metadata": {},
   "outputs": [
    {
     "data": {
      "text/plain": [
       "array([[[-1.22551636,  0.88028653, -1.28675209,  1.05806732],\n",
       "        [ 0.56858884,  1.51698619,  1.31801138,  0.22988731],\n",
       "        [-0.57480268,  0.98489467,  0.17803835, -0.76785951]],\n",
       "\n",
       "       [[ 0.04413181, -0.17887383,  2.54531065,  1.27424058],\n",
       "        [-0.62130242,  0.89141716, -1.04537573,  1.84515952],\n",
       "        [-1.18262811, -1.3119013 ,  0.54142746, -0.93544799]]])"
      ]
     },
     "execution_count": 9,
     "metadata": {},
     "output_type": "execute_result"
    }
   ],
   "source": [
    "np.random.randn(2,3,4)"
   ]
  },
  {
   "cell_type": "markdown",
   "metadata": {},
   "source": [
    "### random.randint()\n",
    "- 方法原型\n",
    "  ```py\n",
    "  random.randint(low, high=None, size=None, dtype=int)\n",
    "  ```"
   ]
  },
  {
   "cell_type": "code",
   "execution_count": 10,
   "metadata": {},
   "outputs": [
    {
     "data": {
      "text/plain": [
       "array([[142, 115, 195, 157],\n",
       "       [130, 136, 174, 165],\n",
       "       [151, 148, 162, 138]])"
      ]
     },
     "execution_count": 10,
     "metadata": {},
     "output_type": "execute_result"
    }
   ],
   "source": [
    "np.random.randint(100,200,(3,4))"
   ]
  },
  {
   "cell_type": "markdown",
   "metadata": {},
   "source": [
    "### random.uniform()\n",
    "- 方法原型\n",
    "  ```py\n",
    "  random.uniform(low=0.0, high=1.0, size=None)\n",
    "  ```\n",
    "- 作用，在区间范围内每个值出现概率相同"
   ]
  },
  {
   "cell_type": "code",
   "execution_count": 12,
   "metadata": {},
   "outputs": [
    {
     "data": {
      "text/plain": [
       "array([-0.20151493, -0.378582  , -0.08794053, -0.02939581, -0.57607785,\n",
       "       -0.65947942, -0.2073888 , -0.69527523, -0.70796116, -0.99871583])"
      ]
     },
     "execution_count": 12,
     "metadata": {},
     "output_type": "execute_result"
    }
   ],
   "source": [
    "np.random.uniform(-1,0,10)"
   ]
  },
  {
   "cell_type": "markdown",
   "metadata": {},
   "source": [
    "## 数据筛选"
   ]
  },
  {
   "cell_type": "markdown",
   "metadata": {},
   "source": [
    "### .intersect1d()\n",
    "- 方法原型\n",
    "  ```py\n",
    "  numpy.intersect1d(ar1, ar2, assume_unique=False, return_indices=False)\n",
    "  ```\n",
    "- 作用：返回两个数组中相同元素"
   ]
  },
  {
   "cell_type": "code",
   "execution_count": 13,
   "metadata": {},
   "outputs": [
    {
     "name": "stdout",
     "output_type": "stream",
     "text": [
      "[1 3 4 6 8]\n"
     ]
    }
   ],
   "source": [
    "Z1 = np.random.randint(0,10,10)\n",
    "Z2 = np.random.randint(0,10,10)\n",
    "print(np.intersect1d(Z1,Z2))"
   ]
  }
 ],
 "metadata": {
  "kernelspec": {
   "display_name": "Python 3",
   "language": "python",
   "name": "python3"
  },
  "language_info": {
   "codemirror_mode": {
    "name": "ipython",
    "version": 3
   },
   "file_extension": ".py",
   "mimetype": "text/x-python",
   "name": "python",
   "nbconvert_exporter": "python",
   "pygments_lexer": "ipython3",
   "version": "3.7.10"
  }
 },
 "nbformat": 4,
 "nbformat_minor": 4
}
